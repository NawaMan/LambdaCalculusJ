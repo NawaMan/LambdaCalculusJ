{
 "cells": [
  {
   "cell_type": "markdown",
   "id": "a1c1169b-4ae9-42b0-ad15-a0e54e194a73",
   "metadata": {},
   "source": [
    "# Boolean"
   ]
  },
  {
   "cell_type": "code",
   "execution_count": 19,
   "id": "67cc9a9f-7288-4f65-85c9-7cbe05518f47",
   "metadata": {},
   "outputs": [],
   "source": [
    "%jars ../java/LambdaCalculusJ.jar\n",
    "\n",
    "import net.nawaman.lambdacalculusj.*;\n",
    "import static net.nawaman.lambdacalculusj.LambdaCalculus.*;\n",
    "\n",
    "void println() {\n",
    "    System.out.println();\n",
    "}\n",
    "void println(Object obj) {\n",
    "    System.out.println(obj);\n",
    "}"
   ]
  },
  {
   "cell_type": "code",
   "execution_count": 20,
   "id": "a711c25f-2526-441e-a028-344b3af9191f",
   "metadata": {},
   "outputs": [],
   "source": [
    "var a = new LambdaWrapper(\"a\", x -> x);\n",
    "var b = new LambdaWrapper(\"b\", x -> x);\n",
    "var True  = lambda(\"True\",  x -> y -> x);\n",
    "var False = lambda(\"False\", x -> y -> y);"
   ]
  },
  {
   "cell_type": "code",
   "execution_count": 25,
   "id": "0c6ae812-7663-404f-a0c9-e6d8a91289c5",
   "metadata": {},
   "outputs": [
    {
     "name": "stdout",
     "output_type": "stream",
     "text": [
      "a\n",
      "b\n",
      "True\n",
      "False\n"
     ]
    }
   ],
   "source": [
    "println(a);\n",
    "println(b);\n",
    "println(True);\n",
    "println(False);"
   ]
  },
  {
   "cell_type": "code",
   "execution_count": 30,
   "id": "55f6e308-f724-4dcc-a5ee-a32c2dacc53a",
   "metadata": {},
   "outputs": [
    {
     "name": "stdout",
     "output_type": "stream",
     "text": [
      "a\n",
      "b\n",
      "a\n",
      "b\n"
     ]
    }
   ],
   "source": [
    "println(True.apply(a).apply(b));\n",
    "println(False.apply(a).apply(b));\n",
    "println($(True,  a, b));\n",
    "println($(False, a, b));"
   ]
  }
 ],
 "metadata": {
  "kernelspec": {
   "display_name": "Java",
   "language": "java",
   "name": "java"
  },
  "language_info": {
   "codemirror_mode": "java",
   "file_extension": ".jshell",
   "mimetype": "text/x-java-source",
   "name": "Java",
   "pygments_lexer": "java",
   "version": "23.0.2+7"
  }
 },
 "nbformat": 4,
 "nbformat_minor": 5
}
